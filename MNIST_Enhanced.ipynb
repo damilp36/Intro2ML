{
  "cells": [
    {
      "cell_type": "markdown",
      "id": "1-Introduction-to-MNIST-and-Image-Classification",
      "metadata": {},
      "source": [
        "## Introduction to MNIST and Image Classification\n",
        "\n",
        "Image classification is a fundamental task in computer vision, where the goal is to assign a label or class to an input image. This task has numerous real-world applications, from self-driving cars recognizing traffic signs to medical imaging diagnosing diseases. At its core, image classification involves teaching a computer to \"see\" and understand the content of an image, a task that comes naturally to humans but is complex for machines.\n",
        "\n",
        "### The MNIST Dataset: A Benchmark for Image Classification\n",
        "\n",
        "The **MNIST (Modified National Institute of Standards and Technology) dataset** is a large, widely-used dataset of handwritten digits. It has become a de facto benchmark for evaluating classification algorithms, particularly in the field of neural networks and deep learning. Its simplicity and clear structure make it an excellent starting point for anyone learning about image classification.\n",
        "\n",
        "**Key characteristics of the MNIST dataset:**\n",
        "*   **Content:** It consists of grayscale images of handwritten digits from 0 to 9.\n",
        "*   **Size:** The dataset is divided into a training set of 60,000 examples and a test set of 10,000 examples.\n",
        "*   **Image Dimensions:** Each image is a small 28x28 pixels.\n",
        "*   **Format:** Grayscale, meaning each pixel has a single intensity value (typically from 0 to 255).\n",
        "\n",
        "Despite its age (created in 1998), MNIST remains relevant for several reasons:\n",
        "*   **Accessibility:** It\"s readily available and easy to load in most machine learning frameworks.\n",
        "*   **Simplicity:** The images are relatively clean and centered, reducing the need for extensive preprocessing.\n",
        "*   **Benchmark:** It allows for quick comparison of new algorithms against established baselines.\n",
        "*   **Educational Value:** It\"s perfect for demonstrating fundamental concepts of neural networks and deep learning without requiring massive computational resources.\n",
        "\n",
        "### From Pixels to Predictions: How Computers \"See\" Images\n",
        "\n",
        "For a computer, an image is just a grid of numbers. In a grayscale image like those in MNIST, each pixel is represented by a numerical value indicating its intensity (e.g., 0 for black, 255 for white, or values in between for shades of gray). A 28x28 MNIST image, therefore, is a 28x28 matrix of these pixel values.\n",
        "\n",
        "The challenge in image classification is to take this matrix of numbers and map it to a specific digit (0-9). Traditional machine learning algorithms might struggle with the high dimensionality and the spatial relationships within images. This is where neural networks, especially Convolutional Neural Networks, shine, as they are designed to automatically learn hierarchical features from raw pixel data.\n"
      ]
    },
    {
      "cell_type": "markdown",
      "id": "2-Fundamentals-of-Neural-Networks-(MLP)",
      "metadata": {},
      "source": [
        "## Fundamentals of Neural Networks (MLP)\n",
        "\n",
        "Before diving into the specialized world of Convolutional Neural Networks, let\"s first understand the basics of a more general type of neural network: the **Multilayer Perceptron (MLP)**, also known as a feedforward neural network or a dense neural network. MLPs form the foundational building blocks for many more complex neural network architectures.\n",
        "\n",
        "### The Neuron: The Basic Unit\n",
        "\n",
        "At the core of any neural network is the **neuron** (or perceptron). Inspired by biological neurons, it\"s a computational unit that receives one or more inputs, applies a transformation to them, and produces an output. Each input to a neuron has an associated **weight**, which determines the strength or importance of that input. The neuron also has a **bias** term, which is an additional input that allows the activation function to be shifted.\n",
        "\n",
        "The process within a neuron can be summarized as follows:\n",
        "1.  **Weighted Sum:** The inputs are multiplied by their respective weights, and these products are summed up.\n",
        "2.  **Add Bias:** The bias term is added to the weighted sum.\n",
        "3.  **Activation Function:** The result is passed through an **activation function**, which introduces non-linearity into the model. This non-linearity is crucial for the network to learn complex patterns and relationships in the data that linear models cannot capture.\n",
        "\n",
        "Mathematically, for a single neuron, the output `y` is calculated as:\n",
        "$$\n",
        "y = f(\\sum_{i=1}^{n} (w_i x_i) + b)$$\n",
        "Where:\n",
        "*   `x_i` are the inputs.\n",
        "*   `w_i` are the weights associated with each input.\n",
        "*   `b` is the bias term.\n",
        "*   `f` is the activation function.\n",
        "\n",
        "### Layers: Organizing Neurons\n",
        "\n",
        "Neurons in an MLP are organized into **layers**:\n",
        "\n",
        "*   **Input Layer:** This is the first layer of the network. The number of neurons in this layer corresponds to the number of features in the input data. For MNIST, if we flatten the 28x28 image, the input layer would have 784 neurons (one for each pixel).\n",
        "*   **Hidden Layers:** These are layers between the input and output layers. MLPs can have one or more hidden layers. Each neuron in a hidden layer is typically connected to every neuron in the previous layer, hence the term \"fully connected\". These layers are responsible for learning complex representations of the input data.\n",
        "*   **Output Layer:** This is the final layer of the network. The number of neurons in this layer corresponds to the number of classes the model needs to predict. For MNIST (digits 0-9), the output layer would have 10 neurons, each representing the probability of the input image belonging to a specific digit class.\n",
        "\n",
        "### Activation Functions\n",
        "\n",
        "Activation functions determine the output of a neuron. They introduce non-linearity, allowing neural networks to learn from complex data and perform tasks like image classification. Common activation functions include:\n",
        "\n",
        "*   **ReLU (Rectified Linear Unit):** `f(x) = max(0, x)`. It outputs the input directly if it\"s positive, otherwise, it outputs zero. It\"s widely used in hidden layers due to its computational efficiency and ability to mitigate the vanishing gradient problem.\n",
        "*   **Softmax:** Used in the output layer for multi-class classification. It converts a vector of numbers into a vector of probabilities, where the probabilities sum to 1. Each value in the output vector represents the probability of the input belonging to a particular class.\n",
        "\n",
        "### How MLPs Process Images\n",
        "\n",
        "For an MLP to process an image, the 2D image data must first be \"flattened\" into a 1D vector. For a 28x28 MNIST image, this means converting it into a vector of 784 pixel values. This flattened vector then serves as the input to the MLP.\n",
        "\n",
        "While MLPs can learn to classify images, they have limitations for image-specific tasks. They treat each pixel as an independent feature, losing the spatial relationships between pixels (e.g., a pixel\"s value is related to its neighbors). This is where CNNs offer a significant advantage.\n"
      ]
    },
    {
      "cell_type": "markdown",
      "id": "3-Introduction-to-Convolutional-Neural-Networks-(CNNs)",
      "metadata": {},
      "source": [
        "## Introduction to Convolutional Neural Networks (CNNs)\n",
        "\n",
        "While Multilayer Perceptrons (MLPs) can be used for image classification, they treat each pixel as an independent feature, effectively flattening the 2D image into a 1D vector. This approach discards crucial spatial information, such as the proximity of pixels and the hierarchical patterns (edges, textures, shapes) that are vital for recognizing objects in images. This is where **Convolutional Neural Networks (CNNs)** come into play.\n",
        "\n",
        "CNNs are a specialized type of neural network designed to process data with a grid-like topology, such as images. They are inspired by the organization of the animal visual cortex, where individual neurons respond to stimuli in a restricted region of the visual field. This \"local receptive field\" concept is central to CNNs.\n",
        "\n",
        "The power of CNNs lies in their ability to automatically learn hierarchical features from raw pixel data. Instead of requiring manual feature engineering (e.g., designing algorithms to detect edges or corners), CNNs learn these features directly from the data during training. This makes them incredibly effective for tasks like image classification, object detection, and image segmentation.\n",
        "\n",
        "A typical CNN architecture is composed of several key layers, often stacked in a specific sequence:\n",
        "1.  **Convolutional Layer**\n",
        "2.  **Activation Function** (commonly ReLU)\n",
        "3.  **Pooling Layer**\n",
        "4.  **Fully Connected Layers** (at the end, for classification)\n",
        "\n",
        "Let\"s explore each of these building blocks in detail.\n"
      ]
    },
    {
      "cell_type": "markdown",
      "id": "3-1-Convolutional-Layer",
      "metadata": {},
      "source": [
        "###  Convolutional Layer\n",
        "\n",
        "The **Convolutional Layer** is the core building block of a CNN. Its primary purpose is to detect local features in the input image, such as edges, corners, or textures. It achieves this through a mathematical operation called **convolution**.\n",
        "\n",
        "**How Convolution Works:**\n",
        "\n",
        "Imagine a small window, called a **filter** (or kernel), sliding over the input image. This filter is a small matrix of numbers (e.g., 3x3 or 5x5). At each position, the filter performs an element-wise multiplication with the corresponding pixels in the image patch it covers, and then sums up the results. This sum forms a single pixel in the output, known as a **feature map** (or activation map).\n",
        "\n",
        "*   **Filters (Kernels):** These are small matrices of learnable parameters. During training, the CNN learns the optimal values for these filters that allow them to detect specific features. Different filters will learn to detect different features (e.g., one filter might detect horizontal edges, another vertical edges, and so on).\n",
        "*   **Feature Maps:** The output of a convolutional layer is a set of feature maps. Each feature map highlights the presence of a specific feature across the input image. The depth of the output feature map corresponds to the number of filters applied.\n",
        "*   **Stride:** This parameter determines how many pixels the filter moves at each step. A stride of 1 means the filter moves one pixel at a time. A larger stride (e.g., 2) means the filter skips pixels, resulting in a smaller output feature map.\n",
        "*   **Padding:** When a filter slides over an image, pixels at the borders are covered fewer times than pixels in the center. To prevent information loss at the edges and to maintain the spatial dimensions of the output, **padding** (adding extra rows/columns of zeros around the image borders) can be used.\n",
        "\n",
        "**Example of a 2D Convolution:**\n",
        "\n",
        "Let\"s consider a simple example of a 2D convolution operation. Suppose we have a 5x5 input image and a 3x3 filter.\n",
        "\n",
        "**Input Image (5x5):**\n",
        "```\n",
        "[[1, 1, 1, 0, 0],\n",
        " [0, 1, 1, 1, 0],\n",
        " [0, 0, 1, 1, 1],\n",
        " [0, 0, 1, 1, 0],\n",
        " [0, 1, 1, 0, 0]]\n",
        "```\n",
        "\n",
        "**Filter (3x3):**\n",
        "```\n",
        "[[1, 0, 1],\n",
        " [0, 1, 0],\n",
        " [1, 0, 1]]\n",
        "```\n",
        "\n",
        "**Output Feature Map (3x3, with stride 1 and no padding):**\n",
        "\n",
        "To calculate the top-left element of the output feature map, we overlay the filter on the top-left 3x3 patch of the input image:\n",
        "\n",
        "```\n",
        "Input Patch:   Filter:   Element-wise Product:   Sum:\n",
        "[[1, 1, 1],    [[1, 0, 1],    [[1, 0, 1],         1+0+1+\n",
        " [0, 1, 1],  *  [0, 1, 0],  =  [0, 1, 0],         0+1+0+\n",
        " [0, 0, 1]]    [1, 0, 1]]    [0, 0, 1]]         0+0+1 = 4\n",
        "```\n",
        "\n",
        "This process is repeated by sliding the filter across the entire image. The output will be a smaller matrix that highlights where the features detected by the filter are present in the original image.\n"
      ]
    },
    {
      "cell_type": "code",
      "execution_count": 16,
      "id": "89ce2ac1",
      "metadata": {},
      "outputs": [
        {
          "name": "stdout",
          "output_type": "stream",
          "text": [
            "Original Image:\n",
            "[[1 1 1 0 0]\n",
            " [0 1 1 1 0]\n",
            " [0 0 1 1 1]\n",
            " [0 0 1 1 0]\n",
            " [0 1 1 0 0]]\n",
            "Edge Detection Kernel:\n",
            "[[-1 -1 -1]\n",
            " [-1  8 -1]\n",
            " [-1 -1 -1]]\n",
            "Convolved Image (Feature Map):\n",
            "[[ 3.  2.  3.]\n",
            " [-4.  2.  2.]\n",
            " [-4.  3.  3.]]\n"
          ]
        },
        {
          "data": {
            "image/png": "[encoded data removed]",
            "text/plain": [
              "<Figure size 1200x400 with 3 Axes>"
            ]
          },
          "metadata": {},
          "output_type": "display_data"
        }
      ],
      "source": [
        "import numpy as np\n",
        "import matplotlib.pyplot as plt\n",
        "\n",
        "# Example of a simple 2D convolution operation (conceptual)\n",
        "def apply_convolution(image, kernel, stride=1, padding=0):\n",
        "    # Add padding if specified\n",
        "    if padding > 0:\n",
        "        image = np.pad(image, padding, mode='constant', constant_values=0)\n",
        "\n",
        "    image_h, image_w = image.shape\n",
        "    kernel_h, kernel_w = kernel.shape\n",
        "\n",
        "    output_h = (image_h - kernel_h) // stride + 1\n",
        "    output_w = (image_w - kernel_w) // stride + 1\n",
        "\n",
        "    output = np.zeros((output_h, output_w))\n",
        "\n",
        "    for i in range(output_h):\n",
        "        for j in range(output_w):\n",
        "            # Extract the patch\n",
        "            patch = image[i*stride:i*stride + kernel_h, j*stride:j*stride + kernel_w]\n",
        "            # Perform element-wise multiplication and sum\n",
        "            output[i, j] = np.sum(patch * kernel)\n",
        "    return output\n",
        "\n",
        "# Define a simple image and a filter\n",
        "image = np.array([[1, 1, 1, 0, 0],\n",
        "                  [0, 1, 1, 1, 0],\n",
        "                  [0, 0, 1, 1, 1],\n",
        "                  [0, 0, 1, 1, 0],\n",
        "                  [0, 1, 1, 0, 0]])\n",
        "\n",
        "edge_detection_kernel = np.array([[-1, -1, -1],\n",
        "                                  [-1,  8, -1],\n",
        "                                  [-1, -1, -1]])\n",
        "\n",
        "# Apply convolution\n",
        "convolved_image = apply_convolution(image, edge_detection_kernel, stride=1, padding=0)\n",
        "\n",
        "print(\"Original Image:\")\n",
        "print(image)\n",
        "print(\"Edge Detection Kernel:\")\n",
        "print(edge_detection_kernel)\n",
        "print(\"Convolved Image (Feature Map):\")\n",
        "print(convolved_image)\n",
        "\n",
        "plt.figure(figsize=(12, 4))\n",
        "\n",
        "plt.subplot(1, 3, 1)\n",
        "plt.imshow(image, cmap='gray')\n",
        "plt.title('Original Image')\n",
        "plt.axis('off')\n",
        "\n",
        "plt.subplot(1, 3, 2)\n",
        "plt.imshow(edge_detection_kernel, cmap='gray')\n",
        "plt.title('Edge Detection Kernel')\n",
        "plt.axis('off')\n",
        "\n",
        "plt.subplot(1, 3, 3)\n",
        "plt.imshow(convolved_image, cmap='gray')\n",
        "plt.title('Convolved Image')\n",
        "plt.axis('off')\n",
        "\n",
        "plt.tight_layout()\n",
        "plt.show()"
      ]
    },
    {
      "cell_type": "markdown",
      "id": "ecbcc766",
      "metadata": {},
      "source": [
        "This example demonstrates how a convolutional layer, using a specific filter, can transform an input image into a feature map that highlights certain patterns, in this case, edges.\n"
      ]
    },
    {
      "cell_type": "markdown",
      "id": "3-2-Activation-Functions-(ReLU)",
      "metadata": {},
      "source": [
        "### 3.2. Activation Functions (ReLU)\n",
        "\n",
        "After a convolution operation, the output (feature map) is typically passed through an **activation function**. The primary role of an activation function is to introduce **non-linearity** into the neural network. Without non-linearity, a neural network, no matter how many layers it has, would essentially behave like a single linear model, limiting its ability to learn complex patterns in data.\n",
        "\n",
        "For CNNs, the most commonly used activation function is the **Rectified Linear Unit (ReLU)**.\n",
        "\n",
        "**ReLU Function:**\n",
        "$$\n",
        "ReLU(x) = \\max(0, x)$$\n",
        "\n",
        "\n",
        "**Properties and Advantages of ReLU:**\n",
        "*   **Non-linearity:** It allows the model to learn more complex relationships than linear functions alone.\n",
        "*   **Computational Efficiency:** ReLU is very simple to compute (just a `max` operation), making it computationally efficient compared to other activation functions like sigmoid or tanh, especially in deep networks.\n",
        "*   **Mitigates Vanishing Gradient Problem:** For positive inputs, the gradient is always 1, which helps in preventing the vanishing gradient problem that can occur with sigmoid or tanh functions in deep networks, allowing for faster and more stable training.\n",
        "*   **Sparsity:** It outputs 0 for negative inputs, leading to sparse activations. This can make the network more efficient and less prone to overfitting.\n",
        "\n",
        "**Visualizing ReLU:**"
      ]
    },
    {
      "cell_type": "code",
      "execution_count": 17,
      "id": "c19d13ff",
      "metadata": {},
      "outputs": [
        {
          "data": {
            "image/png": "[encoded data removed]",
            "text/plain": [
              "<Figure size 800x600 with 1 Axes>"
            ]
          },
          "metadata": {},
          "output_type": "display_data"
        }
      ],
      "source": [
        "import numpy as np\n",
        "import matplotlib.pyplot as plt\n",
        "\n",
        "def relu(x):\n",
        "    return np.maximum(0, x)\n",
        "\n",
        "x = np.linspace(-5, 5, 100)\n",
        "y_relu = relu(x)\n",
        "\n",
        "plt.figure(figsize=(8, 6))\n",
        "plt.plot(x, y_relu, label='ReLU Function', color='blue')\n",
        "plt.title('Rectified Linear Unit (ReLU) Activation Function')\n",
        "plt.xlabel('Input (x)')\n",
        "plt.ylabel('Output (ReLU(x))')\n",
        "plt.grid(True)\n",
        "plt.axvline(0, color='black', linestyle='--', linewidth=0.8)\n",
        "plt.axhline(0, color='black', linestyle='--', linewidth=0.8)\n",
        "plt.legend()\n",
        "plt.show()"
      ]
    },
    {
      "cell_type": "markdown",
      "id": "3caf662c",
      "metadata": {},
      "source": [
        "\n",
        "After the convolutional layer applies its filters to produce feature maps, the ReLU activation function is applied element-wise to these feature maps. This step ensures that the network can learn from non-linear relationships in the image data.\n"
      ]
    },
    {
      "cell_type": "markdown",
      "id": "3-3-Pooling-Layer",
      "metadata": {},
      "source": [
        "### Pooling Layer\n",
        "\n",
        "Following the convolutional layer and activation function, a **Pooling Layer** is often used. The primary functions of a pooling layer are:\n",
        "\n",
        "*   **Dimensionality Reduction:** It reduces the spatial dimensions (width and height) of the feature maps, which helps to decrease the computational cost and the number of parameters in the network.\n",
        "*   **Feature Invariance:** It makes the learned features more robust to small translations, rotations, and scaling in the input image. This means that if a feature (e.g., an edge) shifts slightly in the image, the pooling layer will still detect it.\n",
        "*   **Reduces Overfitting:** By reducing the number of parameters, pooling can help to prevent the model from overfitting to the training data.\n",
        "\n",
        "There are several types of pooling operations, but the most common one used in CNNs is **Max Pooling**.\n",
        "\n",
        "**Max Pooling:**\n",
        "\n",
        "Max pooling operates by sliding a small window (e.g., 2x2) over the input feature map and taking the maximum value within that window. All other values within the window are discarded.\n",
        "\n",
        "*   **Filter Size:** Defines the dimensions of the window (e.g., 2x2, 3x3).\n",
        "*   **Stride:** Determines how many pixels the window moves at each step. A common stride for max pooling is equal to the filter size (e.g., a 2x2 filter with a stride of 2), which means the windows do not overlap.\n",
        "\n",
        "**Example of Max Pooling:**\n",
        "\n",
        "Consider a 4x4 feature map and a 2x2 max pooling filter with a stride of 2.\n",
        "\n",
        "**Input Feature Map (4x4):**\n",
        "```\n",
        "[[1, 1, 2, 4],\n",
        " [5, 6, 7, 8],\n",
        " [3, 2, 1, 0],\n",
        " [1, 2, 3, 4]]\n",
        "```\n",
        "\n",
        "**Max Pooling (2x2 filter, stride 2):**\n",
        "\n",
        "*   Top-left 2x2 patch: `[[1, 1], [5, 6]]` -> Max value is 6.\n",
        "*   Top-right 2x2 patch: `[[2, 4], [7, 8]]` -> Max value is 8.\n",
        "*   Bottom-left 2x2 patch: `[[3, 2], [1, 2]]` -> Max value is 3.\n",
        "*   Bottom-right 2x2 patch: `[[1, 0], [3, 4]]` -> Max value is 4.\n",
        "\n",
        "**Output Pooled Feature Map (2x2):**\n",
        "```\n",
        "[[6, 8],\n",
        " [3, 4]]\n",
        "```"
      ]
    },
    {
      "cell_type": "code",
      "execution_count": 18,
      "id": "63ca973f",
      "metadata": {},
      "outputs": [
        {
          "name": "stdout",
          "output_type": "stream",
          "text": [
            "Original Feature Map:\n",
            "[[1 1 2 4]\n",
            " [5 6 7 8]\n",
            " [3 2 1 0]\n",
            " [1 2 3 4]]\n",
            "Pooled Feature Map (2x2 filter, stride 2):\n",
            "[[6. 8.]\n",
            " [3. 4.]]\n"
          ]
        },
        {
          "data": {
            "image/png": "[encoded data removed]",
            "text/plain": [
              "<Figure size 1000x500 with 4 Axes>"
            ]
          },
          "metadata": {},
          "output_type": "display_data"
        }
      ],
      "source": [
        "import numpy as np\n",
        "import matplotlib.pyplot as plt\n",
        "\n",
        "def apply_max_pooling(feature_map, pool_size=(2, 2), stride=2):\n",
        "    map_h, map_w = feature_map.shape\n",
        "    pool_h, pool_w = pool_size\n",
        "\n",
        "    output_h = (map_h - pool_h) // stride + 1\n",
        "    output_w = (map_w - pool_w) // stride + 1\n",
        "\n",
        "    pooled_output = np.zeros((output_h, output_w))\n",
        "\n",
        "    for i in range(output_h):\n",
        "        for j in range(output_w):\n",
        "            # Extract the patch\n",
        "            patch = feature_map[i*stride:i*stride + pool_h, j*stride:j*stride + pool_w]\n",
        "            # Take the maximum value from the patch\n",
        "            pooled_output[i, j] = np.max(patch)\n",
        "    return pooled_output\n",
        "\n",
        "# Define a sample feature map\n",
        "feature_map = np.array([[1, 1, 2, 4],\n",
        "                        [5, 6, 7, 8],\n",
        "                        [3, 2, 1, 0],\n",
        "                        [1, 2, 3, 4]])\n",
        "\n",
        "# Apply max pooling\n",
        "pooled_map = apply_max_pooling(feature_map)\n",
        "\n",
        "print(\"Original Feature Map:\")\n",
        "print(feature_map)\n",
        "print(\"Pooled Feature Map (2x2 filter, stride 2):\")\n",
        "print(pooled_map)\n",
        "\n",
        "plt.figure(figsize=(10, 5))\n",
        "\n",
        "plt.subplot(1, 2, 1)\n",
        "plt.imshow(feature_map, cmap='viridis')\n",
        "plt.title('Original Feature Map')\n",
        "plt.colorbar()\n",
        "plt.axis('off')\n",
        "\n",
        "plt.subplot(1, 2, 2)\n",
        "plt.imshow(pooled_map, cmap='viridis')\n",
        "plt.title('Pooled Feature Map')\n",
        "plt.colorbar()\n",
        "plt.axis('off')\n",
        "\n",
        "plt.tight_layout()\n",
        "plt.show()"
      ]
    },
    {
      "cell_type": "markdown",
      "id": "0fa3b195",
      "metadata": {},
      "source": [
        "Pooling layers effectively summarize the presence of features in regions, making the network more robust to variations in the exact position of features and reducing the computational burden for subsequent layers.\n"
      ]
    },
    {
      "cell_type": "markdown",
      "id": "3-4-Fully-Connected-Layers",
      "metadata": {},
      "source": [
        "### Fully Connected Layers\n",
        "\n",
        "After several convolutional and pooling layers, the high-level features extracted from the image are typically fed into one or more **Fully Connected (Dense) Layers**. These layers are similar to the layers found in a traditional Multilayer Perceptron (MLP).\n",
        "\n",
        "**Role of Fully Connected Layers in CNNs:**\n",
        "\n",
        "*   **Flattening:** Before connecting to the fully connected layers, the 3D output of the final convolutional or pooling layer (e.g., `height x width x depth`) is \"flattened\" into a 1D vector. This vector represents a high-level, abstract representation of the features learned from the input image.\n",
        "*   **Classification:** The flattened feature vector is then passed through one or more dense layers. These layers learn non-linear combinations of these features to make the final classification decision. Each neuron in a fully connected layer is connected to every neuron in the previous layer.\n",
        "*   **Output Layer:** The final fully connected layer typically has a number of neurons equal to the number of classes in the classification problem (e.g., 10 neurons for MNIST digits 0-9). For multi-class classification, a **softmax activation function** is applied to the output layer. Softmax converts the raw output scores (logits) into a probability distribution, where each value represents the probability of the input belonging to a specific class, and all probabilities sum up to 1.\n",
        "\n",
        "**Example of Softmax Activation:**\n",
        "\n",
        "If the output layer of a CNN for MNIST produces raw scores (logits) like `[2.0, 0.1, -1.5, ..., 3.0]` for the 10 digits, the softmax function would transform these into probabilities, for example, `[0.09, 0.01, 0.00, ..., 0.85]`, where the sum of these probabilities is 1. The class with the highest probability is then chosen as the model\"s prediction.\n",
        "\n"
      ]
    },
    {
      "cell_type": "code",
      "execution_count": 19,
      "id": "6a1a514a",
      "metadata": {},
      "outputs": [
        {
          "name": "stdout",
          "output_type": "stream",
          "text": [
            "Raw Logits:\n",
            "[ 2.   0.1 -1.5  0.5  1.2 -0.8  3.   0.   1.8 -0.3]\n",
            "Softmax Probabilities:\n",
            "[0.17588164 0.02630637 0.00531117 0.0392445  0.07902871 0.01069537\n",
            " 0.47809586 0.02380299 0.1439997  0.01763369]\n",
            "Sum of Probabilities: 1.0000\n",
            "Predicted Class (index): 6\n"
          ]
        }
      ],
      "source": [
        "import numpy as np\n",
        "\n",
        "def softmax(x):\n",
        "    e_x = np.exp(x - np.max(x)) # Subtracting np.max(x) for numerical stability\n",
        "    return e_x / e_x.sum(axis=0)\n",
        "\n",
        "# Example raw scores (logits) for 10 classes\n",
        "logits = np.array([2.0, 0.1, -1.5, 0.5, 1.2, -0.8, 3.0, 0.0, 1.8, -0.3])\n",
        "\n",
        "probabilities = softmax(logits)\n",
        "\n",
        "print(\"Raw Logits:\")\n",
        "print(logits)\n",
        "print(\"Softmax Probabilities:\")\n",
        "print(probabilities)\n",
        "print(\"Sum of Probabilities: {:.4f}\".format(np.sum(probabilities)))\n",
        "print(\"Predicted Class (index):\", np.argmax(probabilities))"
      ]
    },
    {
      "cell_type": "markdown",
      "id": "e3c1d486",
      "metadata": {},
      "source": [
        "\n",
        "In summary, the convolutional and pooling layers act as feature extractors, learning increasingly complex representations of the input image. The fully connected layers then take these learned features and use them to perform the final classification task.\n"
      ]
    },
    {
      "cell_type": "markdown",
      "id": "5c5adf57",
      "metadata": {},
      "source": [
        "## Step 1: Data Loading and Preprocessing (with PyTorch)\n",
        "\n",
        "The **MNIST dataset** is built into PyTorch.  \n",
        "We will:\n",
        "1. Download the dataset (if not already available).\n",
        "2. Convert images into **tensors** (so PyTorch can work with them).\n",
        "3. Normalize pixel values (0–255 → -1 to 1), which helps the network learn faster.\n",
        "4. Organize data into **mini-batches** for training.\n",
        "\n",
        "PyTorch uses:\n",
        "- **`torchvision.datasets.MNIST`** → loads the dataset.\n",
        "- **`torch.utils.data.DataLoader`** → helps us loop through the dataset in batches.\n",
        "- **`torchvision.transforms`** → preprocesses the data (e.g., tensor conversion, normalization).\n"
      ]
    },
    {
      "cell_type": "code",
      "execution_count": 21,
      "id": "4-Data-Loading-and-Initial-Exploration-(MNIST-Dataset)",
      "metadata": {},
      "outputs": [
        {
          "name": "stdout",
          "output_type": "stream",
          "text": [
            "Training samples: 60000\n",
            "Test samples: 10000\n"
          ]
        }
      ],
      "source": [
        "import torch\n",
        "from torchvision import datasets, transforms\n",
        "from torch.utils.data import DataLoader\n",
        "\n",
        "# Define transformations: convert to tensor + normalize\n",
        "transform = transforms.Compose([\n",
        "    transforms.ToTensor(),               # Convert images (28x28) → tensors\n",
        "    transforms.Normalize((0.5,), (0.5,)) # Normalize grayscale (mean=0.5, std=0.5)\n",
        "])\n",
        "\n",
        "# Load training and test datasets\n",
        "train_dataset = datasets.MNIST(\n",
        "    root=\"./data\", train=True, download=True, transform=transform\n",
        ")\n",
        "test_dataset = datasets.MNIST(\n",
        "    root=\"./data\", train=False, download=True, transform=transform\n",
        ")\n",
        "\n",
        "# Create DataLoaders (batches of data)\n",
        "train_loader = DataLoader(train_dataset, batch_size=64, shuffle=True)\n",
        "test_loader  = DataLoader(test_dataset, batch_size=1000, shuffle=False)\n",
        "\n",
        "print(f\"Training samples: {len(train_dataset)}\")\n",
        "print(f\"Test samples: {len(test_dataset)}\")\n"
      ]
    },
    {
      "cell_type": "markdown",
      "id": "053b6cb9",
      "metadata": {},
      "source": [
        "### Why do we use batches?\n",
        "Instead of training on all 60,000 MNIST images at once (which is too big for memory),  \n",
        "we split the dataset into **mini-batches** (e.g., 64 images at a time).  \n",
        "This makes training:\n",
        "- Faster ⏩\n",
        "- More memory-efficient 💾\n",
        "- Better at generalizing 📈\n"
      ]
    },
    {
      "cell_type": "markdown",
      "id": "0c2536b0",
      "metadata": {},
      "source": [
        "## Step 2: Building a Multilayer Perceptron (MLP) with PyTorch\n",
        "\n",
        "An **MLP (Multilayer Perceptron)** is the simplest type of neural network.  \n",
        "It has:\n",
        "- An **input layer** (for the 784 pixels in a 28x28 MNIST image).\n",
        "- One or more **hidden layers** (where the network learns patterns).\n",
        "- An **output layer** (10 neurons → one for each digit 0–9).\n",
        "\n",
        "### How it works\n",
        "1. Flatten the image (28x28 → 784).\n",
        "2. Pass through hidden layers with activation functions (**ReLU**).\n",
        "3. Get raw outputs (**logits**) from the last layer.\n",
        "4. Apply **Softmax** during loss calculation to convert logits → probabilities.\n"
      ]
    },
    {
      "cell_type": "code",
      "execution_count": 22,
      "id": "4-1-Loading-the-Dataset",
      "metadata": {},
      "outputs": [],
      "source": [
        "import torch.nn as nn\n",
        "import torch.nn.functional as F\n",
        "\n",
        "# Define MLP architecture\n",
        "class MLP(nn.Module):\n",
        "    def __init__(self):\n",
        "        super(MLP, self).__init__()\n",
        "        self.fc1 = nn.Linear(28*28, 128)  # Input: 784 → Hidden: 128\n",
        "        self.fc2 = nn.Linear(128, 64)     # Hidden: 128 → Hidden: 64\n",
        "        self.fc3 = nn.Linear(64, 10)      # Hidden: 64 → Output: 10 classes\n",
        "\n",
        "    def forward(self, x):\n",
        "        x = x.view(-1, 28*28)   # Flatten images from (1,28,28) → (784,)\n",
        "        x = F.relu(self.fc1(x)) # First hidden layer + ReLU\n",
        "        x = F.relu(self.fc2(x)) # Second hidden layer + ReLU\n",
        "        x = self.fc3(x)         # Output layer (logits)\n",
        "        return x\n"
      ]
    },
    {
      "cell_type": "markdown",
      "id": "a5cef958",
      "metadata": {},
      "source": [
        "### Notes\n",
        "- **`nn.Linear`** creates a fully connected (dense) layer.  \n",
        "- **ReLU (Rectified Linear Unit)** helps the network learn non-linear patterns.  \n",
        "- The final layer has **10 neurons** (one for each digit).  \n",
        "- We don’t apply Softmax here because **`nn.CrossEntropyLoss`** (which we’ll use later) does that internally.\n"
      ]
    },
    {
      "cell_type": "markdown",
      "id": "46746819",
      "metadata": {},
      "source": [
        "## Step 3: Training the MLP\n",
        "\n",
        "To train our network, we need three key components:\n",
        "\n",
        "1. **Loss function** → measures how far off our predictions are.  \n",
        "   - We use `CrossEntropyLoss`, which combines **LogSoftmax + Negative Log Likelihood**.  \n",
        "   - Perfect for classification tasks (like MNIST digits).  \n",
        "\n",
        "2. **Optimizer** → updates weights using gradients from backpropagation.  \n",
        "   - We’ll use **Adam** (a popular optimizer that adapts the learning rate).  \n",
        "\n",
        "3. **Training loop** → repeat for several epochs:\n",
        "   - Get a batch of data.  \n",
        "   - Do a **forward pass** (input → output).  \n",
        "   - Compute the loss.  \n",
        "   - Do a **backward pass** (compute gradients).  \n",
        "   - Update weights using the optimizer.  \n"
      ]
    },
    {
      "cell_type": "code",
      "execution_count": 23,
      "id": "4-2-Visualizing-Sample-Images",
      "metadata": {},
      "outputs": [
        {
          "name": "stdout",
          "output_type": "stream",
          "text": [
            "Using device: cpu\n",
            "Epoch 1/5, Loss: 0.4056\n",
            "Epoch 2/5, Loss: 0.1903\n",
            "Epoch 3/5, Loss: 0.1366\n",
            "Epoch 4/5, Loss: 0.1107\n",
            "Epoch 5/5, Loss: 0.0950\n"
          ]
        }
      ],
      "source": [
        "import torch.optim as optim\n",
        "\n",
        "# Device setup (GPU if available, else CPU)\n",
        "device = torch.device(\"cuda\" if torch.cuda.is_available() else \"cpu\")\n",
        "print(\"Using device:\", device)\n",
        "\n",
        "# Initialize model, loss, optimizer\n",
        "model = MLP().to(device)\n",
        "criterion = nn.CrossEntropyLoss()\n",
        "optimizer = optim.Adam(model.parameters(), lr=0.001)\n",
        "\n",
        "# Training loop\n",
        "epochs = 5\n",
        "for epoch in range(epochs):\n",
        "    model.train()  # set to training mode\n",
        "    total_loss = 0\n",
        "\n",
        "    for images, labels in train_loader:\n",
        "        images, labels = images.to(device), labels.to(device)\n",
        "\n",
        "        optimizer.zero_grad()        # reset gradients\n",
        "        outputs = model(images)      # forward pass\n",
        "        loss = criterion(outputs, labels)  # compute loss\n",
        "        loss.backward()              # backward pass\n",
        "        optimizer.step()             # update weights\n",
        "\n",
        "        total_loss += loss.item()\n",
        "\n",
        "    print(f\"Epoch {epoch+1}/{epochs}, Loss: {total_loss/len(train_loader):.4f}\")\n"
      ]
    },
    {
      "cell_type": "markdown",
      "id": "64cf3bed",
      "metadata": {},
      "source": [
        "### Key Points \n",
        "- **`model.train()`** → tells PyTorch we are training (activates dropout, batchnorm if present).  \n",
        "- **`optimizer.zero_grad()`** → clears old gradients (otherwise they accumulate).  \n",
        "- **`loss.backward()`** → calculates gradients with respect to weights.  \n",
        "- **`optimizer.step()`** → updates weights using those gradients.  \n",
        "- We loop over the dataset multiple times (**epochs**) to improve learning.  \n"
      ]
    },
    {
      "cell_type": "markdown",
      "id": "fec7b006",
      "metadata": {},
      "source": [
        "## Step 4: Evaluating the MLP\n",
        "\n",
        "After training, we need to check how well our model performs on **unseen data** (the test set).\n",
        "\n",
        "Steps:\n",
        "1. Switch the model to **evaluation mode** with `model.eval()`.  \n",
        "   - This turns off things like dropout (if used).  \n",
        "2. Disable gradient calculation with `torch.no_grad()` (saves memory & speed).  \n",
        "3. Run the model on test data.  \n",
        "4. Compare predictions vs true labels.  \n",
        "5. Compute accuracy.\n"
      ]
    },
    {
      "cell_type": "code",
      "execution_count": 24,
      "id": "b5e4320a",
      "metadata": {},
      "outputs": [
        {
          "name": "stdout",
          "output_type": "stream",
          "text": [
            "Test Accuracy: 96.24%\n"
          ]
        }
      ],
      "source": [
        "model.eval()  # set to evaluation mode\n",
        "correct = 0\n",
        "total = 0\n",
        "\n",
        "with torch.no_grad():  # no need to compute gradients\n",
        "    for images, labels in test_loader:\n",
        "        images, labels = images.to(device), labels.to(device)\n",
        "        outputs = model(images)             # forward pass\n",
        "        _, predicted = torch.max(outputs, 1) # get index of highest logit\n",
        "        total += labels.size(0)\n",
        "        correct += (predicted == labels).sum().item()\n",
        "\n",
        "accuracy = 100 * correct / total\n",
        "print(f\"Test Accuracy: {accuracy:.2f}%\")\n"
      ]
    },
    {
      "cell_type": "markdown",
      "id": "4-2-Visualizing-Sample-Images-code",
      "metadata": {},
      "source": [
        "### 🔑 Key Points\n",
        "- **`model.eval()`** → tells PyTorch we are testing, not training.  \n",
        "- **`torch.no_grad()`** → speeds things up by stopping gradient tracking.  \n",
        "- **`torch.max(outputs, 1)`** → picks the class with the highest score (logit).  \n",
        "- We then compare predictions with actual labels to compute accuracy.  \n"
      ]
    },
    {
      "cell_type": "markdown",
      "id": "039a4857",
      "metadata": {},
      "source": [
        "## Step 4b: Visualizing Predictions\n",
        "\n",
        "It’s helpful to **see what the model predicts** for some test images.  \n",
        "We will:\n",
        "1. Take a batch of test images.  \n",
        "2. Run the model to get predictions.  \n",
        "3. Show the images alongside their predicted and true labels.  \n"
      ]
    },
    {
      "cell_type": "code",
      "execution_count": 27,
      "id": "9e198e1c",
      "metadata": {},
      "outputs": [
        {
          "data": {
            "image/png": "[encoded data removed]",
            "text/plain": [
              "<Figure size 1200x300 with 9 Axes>"
            ]
          },
          "metadata": {},
          "output_type": "display_data"
        }
      ],
      "source": [
        "import matplotlib.pyplot as plt\n",
        "\n",
        "# Get one batch of test images\n",
        "images, labels = next(iter(test_loader))\n",
        "images, labels = images.to(device), labels.to(device)\n",
        "\n",
        "# Make predictions\n",
        "model.eval()\n",
        "with torch.no_grad():\n",
        "    outputs = model(images)\n",
        "    _, predicted = torch.max(outputs, 1)\n",
        "\n",
        "# Plot the first 6 images with predictions\n",
        "fig, axes = plt.subplots(1, 9, figsize=(12, 3))\n",
        "for i in range(9):\n",
        "    axes[i].imshow(images[i].cpu().squeeze(), cmap=\"gray\")\n",
        "    axes[i].set_title(f\"Pred: {predicted[i].item()}\\nTrue: {labels[i].item()}\")\n",
        "    axes[i].axis(\"off\")\n",
        "\n",
        "plt.show()\n"
      ]
    },
    {
      "cell_type": "markdown",
      "id": "ccc98278",
      "metadata": {},
      "source": [
        "### You Should Notice\n",
        "- If the model has trained well, most predictions should match the true labels.  \n",
        "- Sometimes the model may make mistakes (e.g., confusing a **4** with a **9**), especially with messy handwriting.  \n",
        "- Visualizing results helps build intuition about how well the model really understands the data.  \n"
      ]
    },
    {
      "cell_type": "markdown",
      "id": "c24c3105",
      "metadata": {},
      "source": [
        "## Step 5: Building a Convolutional Neural Network (CNN)\n",
        "\n",
        "While MLPs work, they don’t make the best use of image structure.  \n",
        "A **Convolutional Neural Network (CNN)** is designed specifically for images.\n",
        "\n",
        "### Why CNNs are better for images\n",
        "- They look at **local regions** (like edges, corners, shapes).  \n",
        "- They use **filters (kernels)** to automatically learn patterns.  \n",
        "- They keep the **spatial structure** of images (unlike flattening in MLP).  \n",
        "\n",
        "A basic CNN for MNIST:\n",
        "1. **Convolution layers** → detect features (edges, shapes).  \n",
        "2. **Pooling layer** → reduces size but keeps important info.  \n",
        "3. **Fully connected layers** → combine features to predict digits (0–9).  \n"
      ]
    },
    {
      "cell_type": "code",
      "execution_count": 28,
      "id": "4-3-Dataset-Statistics",
      "metadata": {},
      "outputs": [],
      "source": [
        "class CNN(nn.Module):\n",
        "    def __init__(self):\n",
        "        super(CNN, self).__init__()\n",
        "        # Convolutional layers\n",
        "        self.conv1 = nn.Conv2d(1, 32, kernel_size=3, stride=1, padding=1)  # 1 input channel (grayscale), 32 filters\n",
        "        self.conv2 = nn.Conv2d(32, 64, kernel_size=3, stride=1, padding=1) # 32 → 64 filters\n",
        "\n",
        "        # Pooling layer\n",
        "        self.pool = nn.MaxPool2d(2, 2)  # reduce size by 2x\n",
        "\n",
        "        # Fully connected layers\n",
        "        self.fc1 = nn.Linear(64 * 7 * 7, 128) # after pooling, image size = 7x7\n",
        "        self.fc2 = nn.Linear(128, 10)        # output 10 classes\n",
        "\n",
        "        # Dropout (helps prevent overfitting)\n",
        "        self.dropout = nn.Dropout(0.25)\n",
        "\n",
        "    def forward(self, x):\n",
        "        # Convolution + ReLU + Pooling\n",
        "        x = self.pool(F.relu(self.conv1(x)))\n",
        "        x = self.pool(F.relu(self.conv2(x)))\n",
        "\n",
        "        # Flatten for fully connected layers\n",
        "        x = x.view(-1, 64 * 7 * 7)\n",
        "\n",
        "        # Fully connected + dropout\n",
        "        x = F.relu(self.fc1(x))\n",
        "        x = self.dropout(x)\n",
        "        x = self.fc2(x)\n",
        "        return x\n"
      ]
    },
    {
      "cell_type": "markdown",
      "id": "7b0e91a7",
      "metadata": {},
      "source": [
        "### Key Notes\n",
        "- **`nn.Conv2d(in_channels, out_channels, kernel_size)`** → convolution layer.\n",
        "  - `in_channels = 1` because MNIST images are grayscale.\n",
        "  - `out_channels = number of filters` (the features we learn).\n",
        "- **`nn.MaxPool2d(2,2)`** → takes the max value from each 2x2 block (reduces size).\n",
        "- **Dropout** randomly turns off some neurons during training to avoid overfitting.\n",
        "- By stacking conv → pool → conv → pool → fc layers, CNNs learn hierarchical features:\n",
        "  - Early layers = edges, curves.  \n",
        "  - Later layers = digit shapes.  \n"
      ]
    },
    {
      "cell_type": "markdown",
      "id": "e3a4a499",
      "metadata": {},
      "source": [
        "## Step 6: Training and Evaluating the CNN\n",
        "\n",
        "We’ll now train the **CNN** just like we trained the MLP:\n",
        "1. Initialize the CNN model.  \n",
        "2. Use the **CrossEntropyLoss** and **Adam optimizer**.  \n",
        "3. Run through multiple epochs:\n",
        "   - Forward pass → compute predictions.  \n",
        "   - Compute loss.  \n",
        "   - Backward pass → compute gradients.  \n",
        "   - Optimizer updates the weights.  \n",
        "4. Evaluate accuracy on the test set.  \n"
      ]
    },
    {
      "cell_type": "code",
      "execution_count": 29,
      "id": "4-3-Dataset-Statistics-code",
      "metadata": {},
      "outputs": [
        {
          "name": "stdout",
          "output_type": "stream",
          "text": [
            "Epoch 1/5, Loss: 0.1787\n",
            "Epoch 2/5, Loss: 0.0600\n",
            "Epoch 3/5, Loss: 0.0426\n",
            "Epoch 4/5, Loss: 0.0337\n",
            "Epoch 5/5, Loss: 0.0281\n"
          ]
        }
      ],
      "source": [
        "# Initialize CNN model\n",
        "cnn_model = CNN().to(device)\n",
        "\n",
        "criterion = nn.CrossEntropyLoss()\n",
        "optimizer = optim.Adam(cnn_model.parameters(), lr=0.001)\n",
        "\n",
        "# Training loop for CNN\n",
        "epochs = 5\n",
        "for epoch in range(epochs):\n",
        "    cnn_model.train()\n",
        "    total_loss = 0\n",
        "\n",
        "    for images, labels in train_loader:\n",
        "        images, labels = images.to(device), labels.to(device)\n",
        "\n",
        "        optimizer.zero_grad()\n",
        "        outputs = cnn_model(images)\n",
        "        loss = criterion(outputs, labels)\n",
        "        loss.backward()\n",
        "        optimizer.step()\n",
        "\n",
        "        total_loss += loss.item()\n",
        "\n",
        "    print(f\"Epoch {epoch+1}/{epochs}, Loss: {total_loss/len(train_loader):.4f}\")\n"
      ]
    },
    {
      "cell_type": "code",
      "execution_count": 30,
      "id": "bd18ff90",
      "metadata": {},
      "outputs": [
        {
          "name": "stdout",
          "output_type": "stream",
          "text": [
            "CNN Test Accuracy: 98.91%\n"
          ]
        }
      ],
      "source": [
        "# Evaluation on test set\n",
        "cnn_model.eval()\n",
        "correct = 0\n",
        "total = 0\n",
        "\n",
        "with torch.no_grad():\n",
        "    for images, labels in test_loader:\n",
        "        images, labels = images.to(device), labels.to(device)\n",
        "        outputs = cnn_model(images)\n",
        "        _, predicted = torch.max(outputs, 1)\n",
        "        total += labels.size(0)\n",
        "        correct += (predicted == labels).sum().item()\n",
        "\n",
        "accuracy = 100 * correct / total\n",
        "print(f\"CNN Test Accuracy: {accuracy:.2f}%\")\n"
      ]
    },
    {
      "cell_type": "markdown",
      "id": "5-Data-Preprocessing-for-Neural-Networks",
      "metadata": {},
      "source": [
        "### What to Expect\n",
        "- The CNN usually performs **better** than the MLP on MNIST.  \n",
        "- While the MLP might reach ~97–98% accuracy, the CNN can go above **99%**.  \n",
        "- This shows the **power of convolution** in handling image data.  \n"
      ]
    },
    {
      "cell_type": "markdown",
      "id": "5-1-Reshaping-and-Normalization",
      "metadata": {},
      "source": [
        "## Step 7: Visualizing CNN Predictions\n",
        "\n",
        "It’s important to **see the results** of our trained CNN.  \n",
        "We’ll:\n",
        "1. Take a batch of test images.  \n",
        "2. Run them through the CNN.  \n",
        "3. Display the images with both **predicted** and **true** labels.  \n"
      ]
    },
    {
      "cell_type": "code",
      "execution_count": 32,
      "id": "d959e0c4",
      "metadata": {},
      "outputs": [
        {
          "data": {
            "image/png": "[encoded data removed]",
            "text/plain": [
              "<Figure size 1200x300 with 9 Axes>"
            ]
          },
          "metadata": {},
          "output_type": "display_data"
        }
      ],
      "source": [
        "# Get one batch of test images\n",
        "images, labels = next(iter(test_loader))\n",
        "images, labels = images.to(device), labels.to(device)\n",
        "\n",
        "# Make predictions\n",
        "cnn_model.eval()\n",
        "with torch.no_grad():\n",
        "    outputs = cnn_model(images)\n",
        "    _, predicted = torch.max(outputs, 1)\n",
        "\n",
        "# Plot the first 6 images with predictions\n",
        "fig, axes = plt.subplots(1, 9, figsize=(12, 3))\n",
        "for i in range(9):\n",
        "    axes[i].imshow(images[i].cpu().squeeze(), cmap=\"gray\")\n",
        "    axes[i].set_title(f\"Pred: {predicted[i].item()}\\nTrue: {labels[i].item()}\")\n",
        "    axes[i].axis(\"off\")\n",
        "\n",
        "plt.show()\n"
      ]
    },
    {
      "cell_type": "markdown",
      "id": "6da66315",
      "metadata": {},
      "source": [
        "### Key Takeaways\n",
        "- If training went well, predictions should mostly match the true labels.  \n",
        "- Mistakes may happen on unclear digits (e.g., a sloppy **5** might look like a **6**).  \n",
        "- Visualization helps us build intuition about the **strengths and weaknesses** of our model.  \n"
      ]
    },
    {
      "cell_type": "markdown",
      "id": "5-2-One-Hot-Encoding-Labels",
      "metadata": {},
      "source": [
        "## Step 8: Comparing MLP vs CNN Performance\n",
        "\n",
        "Now that we’ve trained both models, let’s compare them.\n",
        "\n",
        "### Key Observations\n",
        "1. **MLP (Multilayer Perceptron)**\n",
        "   - Treats the image as a long list of numbers (784 pixels).  \n",
        "   - Doesn’t take into account the *spatial structure* of the image.  \n",
        "   - Accuracy is good (~97–98%), but not the best for image tasks.  \n",
        "\n",
        "2. **CNN (Convolutional Neural Network)**\n",
        "   - Looks at local regions (using filters) → learns edges, shapes, and digit patterns.  \n",
        "   - Keeps the 2D structure of the image intact.  \n",
        "   - Accuracy is higher (~99%), making it more reliable for real-world image recognition.  \n",
        "\n",
        "### Performance Recap\n",
        "- MLP: simpler, faster, great for learning the basics.  \n",
        "- CNN: more powerful, the standard choice for images.  \n"
      ]
    },
    {
      "cell_type": "code",
      "execution_count": 33,
      "id": "2304c47d",
      "metadata": {},
      "outputs": [
        {
          "name": "stdout",
          "output_type": "stream",
          "text": [
            "MLP Accuracy: 96.24%\n",
            "CNN Accuracy: 98.91%\n"
          ]
        }
      ],
      "source": [
        "# Quick function to evaluate accuracy (for reuse)\n",
        "def evaluate_model(model, data_loader):\n",
        "    model.eval()\n",
        "    correct = 0\n",
        "    total = 0\n",
        "    with torch.no_grad():\n",
        "        for images, labels in data_loader:\n",
        "            images, labels = images.to(device), labels.to(device)\n",
        "            outputs = model(images)\n",
        "            _, predicted = torch.max(outputs, 1)\n",
        "            total += labels.size(0)\n",
        "            correct += (predicted == labels).sum().item()\n",
        "    return 100 * correct / total\n",
        "\n",
        "mlp_acc = evaluate_model(model, test_loader)\n",
        "cnn_acc = evaluate_model(cnn_model, test_loader)\n",
        "\n",
        "print(f\"MLP Accuracy: {mlp_acc:.2f}%\")\n",
        "print(f\"CNN Accuracy: {cnn_acc:.2f}%\")\n"
      ]
    },
    {
      "cell_type": "markdown",
      "id": "fa406b74",
      "metadata": {},
      "source": [
        "### 5.2. One-Hot Encoding Labels\n",
        "\n",
        "For multi-class classification problems, especially when using categorical cross-entropy as the loss function, it is common practice to convert integer labels into a **one-hot encoded** format. One-hot encoding transforms a single integer label into a binary vector where only one element is \"hot\" (1) and the rest are 0.\n",
        "\n",
        "For example, if we have 10 classes (digits 0-9):\n",
        "*   The digit `3` would be represented as `[0, 0, 0, 1, 0, 0, 0, 0, 0, 0]`\n",
        "*   The digit `7` would be represented as `[0, 0, 0, 0, 0, 0, 0, 1, 0, 0]`\n",
        "\n",
        "This format is suitable for training neural networks with a softmax output layer, as each output neuron corresponds to the probability of belonging to a specific class.\n"
      ]
    },
    {
      "cell_type": "markdown",
      "id": "5-2-One-Hot-Encoding-Labels-code",
      "metadata": {},
      "source": [
        "### Conclusion\n",
        "- **MLP** taught us the basics of how neural networks work.  \n",
        "- **CNN** showed us how adding convolutional layers makes a huge difference for images.  \n",
        "- This is why modern computer vision tasks (like face recognition, medical imaging, self-driving cars) all rely on **CNNs (or even more advanced architectures like ResNets, Transformers, etc.)**.  \n"
      ]
    }
  ],
  "metadata": {
    "kernelspec": {
      "display_name": "base",
      "language": "python",
      "name": "python3"
    },
    "language_info": {
      "codemirror_mode": {
        "name": "ipython",
        "version": 3
      },
      "file_extension": ".py",
      "mimetype": "text/x-python",
      "name": "python",
      "nbconvert_exporter": "python",
      "pygments_lexer": "ipython3",
      "version": "3.13.5"
    }
  },
  "nbformat": 4,
  "nbformat_minor": 5
}
